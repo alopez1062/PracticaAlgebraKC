{
 "cells": [
  {
   "cell_type": "markdown",
   "metadata": {},
   "source": [
    "# Práctica"
   ]
  },
  {
   "cell_type": "markdown",
   "metadata": {},
   "source": [
    "## 1. La conjetura de Collatz\n",
    "\n",
    "<img src=\"Images/comic_collatz.png\" style=\"width: 400px;\"/>\n",
    "\n",
    "Empiezas con un número entero natural cualquiera (1, 2, 3, 4, 5...).  \n",
    "Si el número es par, lo divides por 2  \n",
    "Si es impar, lo multiplicas por 3 y le sumas 1  \n",
    "\n",
    "Escribir un procedimiento en Python que implemente el mecanismo de la conjetura de Collatz para cualquier número entero positivo."
   ]
  },
  {
   "cell_type": "code",
   "execution_count": null,
   "metadata": {},
   "outputs": [],
   "source": [
    "def conjetura_collatz(numero):\n",
    "    if numero == 1:\n",
    "        print(\"¡Que casualidad hemos vuelto a llegar al 1!\")\n",
    "        return\n",
    "    elif numero%2 == 0:\n",
    "        nuevo_numero = numero // 2\n",
    "        print(\"{} / 2 = {}\".format(numero, nuevo_numero))\n",
    "    else:\n",
    "        nuevo_numero = numero * 3 + 1\n",
    "        print(\"{} * 3 + 1 = {}\".format(numero, nuevo_numero))\n",
    "    conjetura_collatz(nuevo_numero)"
   ]
  },
  {
   "cell_type": "code",
   "execution_count": null,
   "metadata": {},
   "outputs": [],
   "source": [
    "conjetura_collatz(9)"
   ]
  },
  {
   "cell_type": "markdown",
   "metadata": {},
   "source": [
    "## 2. Suma y producto escalar combinados\n",
    "\n",
    "Usando los procedimientos add y mult_vector_escalar definidos en el notebook **ALG05_Vectores**, calcular:   \n",
    "{$\\alpha$[1,2]+[3,4] : $\\alpha$$\\in$$\\mathbb{R}$, 0$\\leq$$\\alpha$$\\leq$1, con una precision de dos decimales (para la multiplicación)}"
   ]
  },
  {
   "cell_type": "code",
   "execution_count": null,
   "metadata": {},
   "outputs": [],
   "source": [
    "def addn(v ,w):\n",
    "    if len(v) != len(w):\n",
    "        print(\"No se puede realizar la suma porque los vetores no tienen la misma longitud\")\n",
    "        return\n",
    "    return[v[i]+w[i] for i in range(len(v))]"
   ]
  },
  {
   "cell_type": "code",
   "execution_count": null,
   "metadata": {},
   "outputs": [],
   "source": [
    "def mult_esc_vector(alpha, v):\n",
    "    return [alpha * v[i] for i in range(len(v))]"
   ]
  },
  {
   "cell_type": "code",
   "execution_count": null,
   "metadata": {},
   "outputs": [],
   "source": [
    "import numpy as np\n",
    "\n",
    "vector1 = [1,2]\n",
    "vector2 = [3,4]\n",
    "escalares = [x for x in np.arange(0,1.01, 0.01)]\n",
    "resultado = [addn(mult_esc_vector(x, vector1), vector2) for x in escalares]\n",
    "\n",
    "for i, vector in enumerate(resultado):\n",
    "    print(\"Para el escalar {:.2f} el vector resultante es: [{:.2f}, {:.2f}]\".format(escalares[i], vector[0], vector[1]))\n",
    "    \n",
    "    "
   ]
  },
  {
   "cell_type": "markdown",
   "metadata": {},
   "source": [
    "## 3. El secreto perfecto\n",
    "\n",
    "Representa la encriptación de la adicción de un n-vector a un n-vector de GF(2)  \n",
    "\n",
    "<img src=\"Images/mortadelo-filemon.jpg\" style=\"width: 300px;\"/>\n",
    "\n",
    "Mortadelo y Filemón usan como clave el siguiente vector:  \n",
    "**k**=[0,1,0,0,1,0,1,0,1,0] \n",
    "\n",
    "Mortadelo quiere enviarle a Filemón el siguiente mensaje:  \n",
    "**p**=[0,0,0,1,1,1,0,1,0,1] \n",
    "\n",
    "Mortadelo encripta su mensaje añadiendo k: \n",
    "**c**=**p**+**k**=[0,0,0,1,1,1,0,1,0,1]+[0,1,0,0,1,0,1,0,1,0]=[0,1,0,1,0,1,1,1,1,1] \n",
    "\n",
    "Cuando Filemón recibe el mensaje, lo desencripta añadiendo **k** a lo que ha recibido \n",
    "**p**=**c**+**k**=[0,1,0,1,0,1,1,1,1,1]+[0,1,0,0,1,0,1,0,1,0]=[0,0,0,1,1,1,0,1,0,1]    \n",
    "\n",
    "que es el mensaje original.\n",
    "\n",
    "La idea es crear un procedimiento para que Filemón:\n",
    "* No tenga que hacer este proceso manualmente cada vez que Mortadelo le envíe un mensaje encriptado para descifrarlo\n",
    "* Si deciden cambiar la clave, que el procedimiento cambie mínimamente\n",
    "\n",
    "  \n"
   ]
  },
  {
   "cell_type": "code",
   "execution_count": null,
   "metadata": {},
   "outputs": [],
   "source": [
    "def add_vector_GF2(k,c):\n",
    "    if len(k) != len(c):\n",
    "        print(\"Error: la longitud del vector no coincide con el de la clave.\")\n",
    "        return\n",
    "    return[(k[i]+c[i])%2 for i in range(len(k))]"
   ]
  },
  {
   "cell_type": "code",
   "execution_count": null,
   "metadata": {},
   "outputs": [],
   "source": [
    "# Comprobamos el ejemplo\n",
    "k = [0,1,0,0,1,0,1,0,1,0]\n",
    "p = [0,0,0,1,1,1,0,1,0,1]\n",
    "c = [0,1,0,1,0,1,1,1,1,1]\n",
    "# Encriptamos el vector\n",
    "vector_enc = add_vector_GF2(k, p)\n",
    "# Comprobamos que es correcta\n",
    "if vector_enc == c:\n",
    "    print(f\"Encriptación correcta: {c} = {vector_enc}\")\n",
    "# Desencriptamos el vector\n",
    "vector_desenc = add_vector_GF2(k, vector_enc)\n",
    "# Comprobamos que es correcta\n",
    "if vector_desenc == p:\n",
    "    print(f\"Desencriptación correcta: {p} = {vector_desenc}\")"
   ]
  },
  {
   "cell_type": "markdown",
   "metadata": {},
   "source": [
    "## 4. ¿Cuánto cuesta hacer una cerveza?\n",
    "\n",
    "<img src=\"Images/cerveza.jpg\" style=\"width: 300px;\"/>\n",
    "\n",
    "Supongamos que D es el conjunto de algunos ingredientes de la cerveza: \n",
    "> D={lúpulo, malta, agua, levadura} \n",
    "\n",
    "Por otro lado tenemos el vector coste:\n",
    "> coste={lúpulo: 2,5€, malta: 1.5€, agua: 0.006€, levadura: 0,45€}  \n",
    "\n",
    "Por último tenemos el vector cantidad con lo necesario para hacer una cerveza:\n",
    "> cantidad={lúpulo: 6u, malta: 14u, agua: 7u, levadura: 11u} \n",
    "\n",
    "¿Cuánto cuesta hacer una cerveza?"
   ]
  },
  {
   "cell_type": "code",
   "execution_count": null,
   "metadata": {},
   "outputs": [],
   "source": [
    "# Debemos usar el producto escalar o interno entre el vector de coste y el vector de cantidad\n",
    "# Si en el dicionario hay una cantidad sin coste le damos precio 0\n",
    "def precio_cerveza(coste, cantidad):\n",
    "    return sum([coste.get(ing) * cantidad.get(ing) \n",
    "                if coste.get(ing) is not None else 0\n",
    "                for ing in cantidad])"
   ]
  },
  {
   "cell_type": "code",
   "execution_count": null,
   "metadata": {},
   "outputs": [],
   "source": [
    "coste={\"lúpulo\": 2.5, \"malta\": 1.5, \"agua\": 0.006, \"levadura\": 0.45}\n",
    "cantidad={\"lúpulo\": 6, \"malta\": 14, \"agua\": 7, \"levadura\": 11}\n",
    "coste_cerveza = precio_cerveza(coste, cantidad)\n",
    "print(f\"El coste de hacer una cerveza es {coste_cerveza:.2f} €.\")"
   ]
  },
  {
   "cell_type": "markdown",
   "metadata": {},
   "source": [
    "## 5. La carrera de caballos\n",
    "\n",
    "Tres caballos A, B y C compiten en una carrera.  \n",
    "Las apuestas para dar como vencedor a cada uno de ellos son de 4 a 1 para A, 3 a 1 para B y 2 a 1 para C, tomando las unidades siempre en euros.  \n",
    "¿Cuánto debo apostar por cada caballo para asegurarme recibir 13 euros en toal, sin importar qué csaballo gane la carrera?"
   ]
  },
  {
   "cell_type": "markdown",
   "metadata": {},
   "source": [
    "Sean x,y,z el dinero apostado por los caballos A, B y C respectivamente.\n",
    "El objetivo del problema escalcular la cantidad que debe apostarse por cada caballo de forma que la suma del dinero recibido y perdido en ñas apuestas sea siempre igual a 13€.  \n",
    "Así, podemos plantear un sistema de tres ecuaciones con tres incógnitas, en el que igualaremos matemáticamente la cantidad percibida por la victoria de los caballos A, B, C y, al mismo tiempo, señalaremos que esta cantidad corresponde a 13€.  \n",
    "\n",
    "> 4x-y-z=3y-x-z  \n",
    "> 3y-x-z=2z-x-y  \n",
    "> 2z-x-y=13\n"
   ]
  },
  {
   "cell_type": "code",
   "execution_count": null,
   "metadata": {},
   "outputs": [],
   "source": [
    "# operamos el sistema y queda de la forma\n",
    "# 5x - 4y + 0z = 0\n",
    "# 0x + 4y - 3z = 0\n",
    "# -1x -1y + 2z = 13\n",
    "# Comprobamos el rango de la matriz de coeficientes y de la matriz ampliada\n",
    "\n",
    "import numpy as np\n",
    "\n",
    "matriz_coef = np.matrix([\n",
    "    [5,-4,0],\n",
    "    [0,4,-3],\n",
    "    [-1,-1,2]\n",
    "])\n",
    "\n",
    "rango_matriz_coef = np.linalg.matrix_rank(matriz_coef)\n",
    "\n",
    "\n",
    "matriz_ampl = np.matrix([\n",
    "    [5,-4,0,0],\n",
    "    [0,4,-3,0],\n",
    "    [-1,-1,2,13]\n",
    "])\n",
    "\n",
    "rango_matriz_ampl = np.linalg.matrix_rank(matriz_ampl)\n",
    "\n",
    "print(\"El rango de la matriz de coeficientes es:\", rango_matriz_coef)\n",
    "print(\"El rango de la matriz ampliada es:\", rango_matriz_ampl)"
   ]
  },
  {
   "cell_type": "code",
   "execution_count": null,
   "metadata": {},
   "outputs": [],
   "source": [
    "# Como los rangos son iguales podemos asegurar que el sistema tendrá una única solución\n",
    "\n",
    "import sympy as sp\n",
    "from sympy.abc import x,y,z\n",
    "\n",
    "A = sp.Matrix(matriz_ampl)\n",
    "\n",
    "solucion = sp.solve_linear_system(A,x,y,z)\n",
    "print(\"Para obetener siempre 13 € de beneficio, tendremos que invertir:\")\n",
    "print(\"- {} € al caballo A.\".format(solucion[x]))\n",
    "print(\"- {} € al caballo B.\".format(solucion[y]))\n",
    "print(\"- {} € al caballo C.\".format(solucion[z]))"
   ]
  },
  {
   "cell_type": "markdown",
   "metadata": {},
   "source": [
    "## 6. Dimensión de matrices\n",
    "\n",
    "Sea la matriz $\n",
    "  M=\n",
    "  \\left[ {\\begin{array}{cc}\n",
    "   1 & 0  & 0 & 5 \\\\\n",
    "   0 & 2  & 0 & 7 \\\\\n",
    "   0 & 0  & 3 & 9 \\\\\n",
    "  \\end{array} } \\right]\n",
    "$. Calcular el rango por filas y por columnas usando Python."
   ]
  },
  {
   "cell_type": "code",
   "execution_count": null,
   "metadata": {},
   "outputs": [],
   "source": [
    "# rango por filas\n",
    "import numpy as np\n",
    "\n",
    "M = np.matrix([\n",
    "    [1,0,0,5],\n",
    "    [0,2,0,7],\n",
    "    [0,0,3,9]\n",
    "])\n",
    "\n",
    "rank_M = np.linalg.matrix_rank(M)\n",
    "print(\"El rango de la matriz es:\", rank_M)"
   ]
  },
  {
   "cell_type": "code",
   "execution_count": null,
   "metadata": {},
   "outputs": [],
   "source": [
    "# rango por columnas\n",
    "import numpy as np\n",
    "\n",
    "M = np.matrix([\n",
    "    [1,0,0],\n",
    "    [0,2,0],\n",
    "    [0,0,3],\n",
    "    [5,7,9]\n",
    "])\n",
    "\n",
    "rank_M = np.linalg.matrix_rank(M)\n",
    "\n",
    "print(\"El rango de la matriz es:\", rank_M)\n",
    "\n",
    "print(\"La columna [5,7,9] puede expresarse como combinación lineal de las tres primeras.\")"
   ]
  },
  {
   "cell_type": "markdown",
   "metadata": {},
   "source": [
    "## 7. Bosque de extensión mínima\n",
    "\n",
    "<img src=\"Images/bosque.png\" style=\"width: 800px;\"/>\n",
    "\n",
    "En clase hemos hecho el caso del grafo de la derecha. Le toca el turno al de la izquierda.\n",
    "Supongamos que queremos diseñar la red de internet para el otro campus universitario.  \n",
    "La red debe lograr la misma conectividad que el grafo de entrada.  \n",
    "Una arista representa un posible cable.  \n",
    "El peso de la arista es el coste de instalar el cable.  \n",
    "Nuestro objetivo es minimizar el coste total, usando el algoritmo Grow y el algoritmo Shrink.\n",
    "Lo único que en este caso se pide crear un procedimiento para el algoritmo Grow y otro para el Shrink que lo hagan automáticamente una vez les metamos como parámetros las aristas y sus pesos"
   ]
  },
  {
   "cell_type": "code",
   "execution_count": null,
   "metadata": {},
   "outputs": [],
   "source": [
    "def algoritmo_grow(grafo):\n",
    "    # ordenamos la lista por el peso de la arista, para ello damos la vuelta al grafo poniendo primero el peso\n",
    "    grafo = [(i[1], i[0]) for i in grafo]\n",
    "    grafo.sort()\n",
    "    # creamos el bosque que vamos a devolver como solucion y agregamos el primer elemento del grafo ordenado\n",
    "    # y lo eliminamos del grafo\n",
    "    forest = []\n",
    "    forest.append(grafo.pop(0))\n",
    "    # copiamos los vertices que ya tenemos en el bosque a un conjunto\n",
    "    vertices = forest[0][1].copy()\n",
    "    # recorremos los nodos que quedan en el grafo y vamos a comprobar que alguno de los vértices no esté en nuestro\n",
    "    # bosque, si alguno de los dos vértices no está agregamos el nodo, no nos tenemos que preocupar de la arista\n",
    "    # porque ya está ordenado\n",
    "    for nodo in grafo:\n",
    "        vertices_del_nodo = nodo[1]\n",
    "        for vertice in vertices_del_nodo:\n",
    "            if vertice not in vertices:\n",
    "                forest.append(nodo)\n",
    "                # eliminamos el nodo del grafo\n",
    "                grafo.remove(nodo)\n",
    "                for vertice in vertices_del_nodo:\n",
    "                    # agregamos los dos vertices, si alguno de los dos ya estaba al ser un conjunto no lo duplica\n",
    "                    vertices.add(vertice)\n",
    "    # volvemos a darle la vuelta al grafo para devolverlo como nos los entregaron\n",
    "    forest = [(i[1], i[0]) for i in forest]\n",
    "    return forest"
   ]
  },
  {
   "cell_type": "code",
   "execution_count": null,
   "metadata": {},
   "outputs": [],
   "source": [
    "grafo = [({\"Pembroke Campus\",\"Athletic Complex\"},7),\n",
    "         ({\"Pembroke Campus\",\"Bio_Med\"},2),\n",
    "         ({\"Athletic Complex\",\"Bio_Med\"},9)\n",
    "        ]\n",
    "algoritmo_grow(grafo)"
   ]
  },
  {
   "cell_type": "code",
   "execution_count": null,
   "metadata": {},
   "outputs": [],
   "source": [
    "def algoritmo_shrink(grafo):\n",
    "    # ordenamos grafo de mayor a menor peso de arista\n",
    "    grafo = [(i[1], i[0]) for i in grafo]\n",
    "    grafo.sort(reverse=True)\n",
    "    # vamos a recorrer el grafo por su indice y eliminando los nodos sobrantes\n",
    "    i = 0\n",
    "    while i < len(grafo):\n",
    "        # guardamos los vértices del nodo que vamos a analizar\n",
    "        vertices = list(grafo[i][1].copy())\n",
    "        control_1 = False\n",
    "        control_2 = False\n",
    "        # commprobamos si el primer vértice está en algún otro nodo\n",
    "        for j in range(i+1,len(grafo)):\n",
    "            if vertices[0] in grafo[j][1]:\n",
    "                control_1 = True\n",
    "                break\n",
    "        # commprobamos si el segundo vértice está en algún otro nodo\n",
    "        for j in range(i+1,len(grafo)):\n",
    "            if vertices[1] in grafo[j][1]:\n",
    "                control_2 = True\n",
    "                break\n",
    "        # si los dos vértices estaban en otros nodos eliminamos el nodo y mantenemos la i con el mismo valor\n",
    "        # si alguno de los dos vértices no estaba dejamos el nodo y sumamos uno a la i\n",
    "        if control_1 and control_2:\n",
    "            grafo.pop(i)\n",
    "        else:\n",
    "            i += 1\n",
    "    # volvemos a darle la vuelta al grafo para devolverlo como nos los entregaron\n",
    "    grafo = [(i[1], i[0]) for i in grafo]\n",
    "    return grafo"
   ]
  },
  {
   "cell_type": "code",
   "execution_count": null,
   "metadata": {},
   "outputs": [],
   "source": [
    "grafo = [({\"Pembroke Campus\",\"Athletic Complex\"},7),\n",
    "         ({\"Pembroke Campus\",\"Bio_Med\"},2),\n",
    "         ({\"Athletic Complex\",\"Bio_Med\"},9)\n",
    "        ]\n",
    "algoritmo_shrink(grafo)"
   ]
  },
  {
   "cell_type": "code",
   "execution_count": null,
   "metadata": {},
   "outputs": [],
   "source": [
    "# este es otra version de anterior que yo creo que lo hace más eficiente, ya que si el primer vértice no está\n",
    "# ya no busca el segundo, pero quizá es menos legible, por eso he dejado los dos\n",
    "\n",
    "def algoritmo_shrink(grafo):\n",
    "    # ordenamos grafo de mayor a menor peso de arista\n",
    "    grafo = [(i[1], i[0]) for i in grafo]\n",
    "    grafo.sort(reverse=True)\n",
    "    # vamos a recorrer el grafo por su indice y eliminando los nodos sobrantes\n",
    "    i = 0\n",
    "    while i < len(grafo):\n",
    "        # guardamos los vértices del nodo que vamos a analizar\n",
    "        vertices = list(grafo[i][1].copy())\n",
    "        control_1 = False\n",
    "        control_2 = False\n",
    "        # commprobamos si el primer vértice está en algún otro nodo\n",
    "        for j in range(i+1,len(grafo)):\n",
    "            if vertices[0] in grafo[j][1]:\n",
    "                control_1 = True\n",
    "                break\n",
    "        # si el primer vertice esta en otro nodo comprobamos si el segundo vértice está en algún otro nodo\n",
    "        if control_1:\n",
    "            for j in range(i+1,len(grafo)):\n",
    "                if vertices[1] in grafo[j][1]:\n",
    "                    control_2 = True\n",
    "                    break\n",
    "            # si los dos vértices estaban en otros nodos eliminamos el nodo y mantenemos la i con el mismo valor\n",
    "            if control_2:\n",
    "                grafo.pop(i)\n",
    "            # si alguno de los dos vértices no estaba dejamos el nodo y sumamos uno a la i\n",
    "            else:\n",
    "                i += 1  \n",
    "        else:\n",
    "            i += 1 \n",
    "    # volvemos a darle la vuelta al grafo para devolverlo como nos los entregaron\n",
    "    grafo = [(i[1], i[0]) for i in grafo]\n",
    "    return grafo"
   ]
  },
  {
   "cell_type": "code",
   "execution_count": null,
   "metadata": {},
   "outputs": [],
   "source": [
    "grafo = [({\"Pembroke Campus\",\"Athletic Complex\"},7),\n",
    "         ({\"Pembroke Campus\",\"Bio_Med\"},2),\n",
    "         ({\"Athletic Complex\",\"Bio_Med\"},9)\n",
    "        ]\n",
    "algoritmo_shrink(grafo)"
   ]
  },
  {
   "cell_type": "markdown",
   "metadata": {},
   "source": [
    "## 8. El dígito móvil\n",
    "\n",
    "<img src=\"Images/imagenx2.png\" style=\"width: 500px;\"/>\n",
    "\n",
    "Hallar un número tal que, multiplicado por 3 y dividido entre 2, dé el mismo resultado que si moviéramos el primer dígito del número, el 3, desde el principio hasta el final de la fila de dígitos\n",
    "\n",
    "PISTA: Los únicos números que, al ser multiplicados por determinadas cifras, producen otros números cuyos dígitos siguen la misma secuencia que el número original aunque comenzando por otro de sus dígitos, son los períodos de los números decimales periódicos. Estos números se dicen **cíclicos**.  \n",
    "Nosotros queremos buscar un número de este tipo\n",
    "\n",
    "PISTA: No hay que resolverlo con Python"
   ]
  },
  {
   "cell_type": "markdown",
   "metadata": {},
   "source": [
    "**Si dividimos 1/17 obtenemos el cociente 0588235294117647 que multiplicado por 6 que es uno de los restos de la división nos da 3529411764705882 que multiplicado por 3/2 = 5294117647058823 que ha movido el 3 a la última cifra.**"
   ]
  },
  {
   "cell_type": "markdown",
   "metadata": {},
   "source": [
    "## 9. Agujas superpuestas\n",
    "\n",
    "<img src=\"Images/reloj-movimiento--478x578.jpg\" style=\"width: 250px;\"/>\n",
    "\n",
    "El horario y el minutero de un reloj se juntan exactamente cada 65 minutos.  \n",
    "Calcular si el reloj se adelanta o se atrasa, y cuánto por hora.  \n",
    "\n",
    "PISTA: Suponer que las agujas del reloj empiezan en las 12 en punto.\n",
    "\n",
    "PISTA: No hace falta resolverlo con Python"
   ]
  },
  {
   "cell_type": "markdown",
   "metadata": {},
   "source": [
    "**En 12 horas las agujas se superponen 11 veces. \n",
    "Si en 12 horas hay 720 minutos y los dividimos entre 11 : son 65,45 minutos, que correspode a 65 minutos y 27 segundos.\n",
    "Ese es el tiempo que debería tardar en superponerse, como tarda sólo 65 minutos podemos decir que se adelanta 27 segundos.**"
   ]
  },
  {
   "cell_type": "markdown",
   "metadata": {},
   "source": [
    "## 10. Cuadrados perfectos\n",
    "\n",
    "<img src=\"Images/cuadrados-perfectos.jpg\" style=\"width: 500px;\"/>\n",
    "\n",
    "Averiguar el número entero positivo que, sumado tanto a 100 como a 164, propociona sendos cuadrados perfectos.\n",
    "\n",
    "PISTA: No hace falta resolverlo con Python"
   ]
  },
  {
   "cell_type": "code",
   "execution_count": null,
   "metadata": {},
   "outputs": [],
   "source": [
    "import math\n",
    "\n",
    "# Obtenemos el primer número del que calcular su cuadrado (11)\n",
    "i = math.ceil(math.sqrt(100))\n",
    "\n",
    "while True:\n",
    "    # Obtenemos el cuadrado y se lo restamos a 100\n",
    "    numero = i**2 - 100\n",
    "    # Hacemos la raiz cuadrada del numero mas 164 y comprobamos si es exacta de serlo salimos del bucle\n",
    "    prueba = math.sqrt(164 + numero)\n",
    "    if int(prueba) - prueba == 0:\n",
    "        print(\"El numero es\", numero)\n",
    "        break\n",
    "    i+=1"
   ]
  },
  {
   "cell_type": "markdown",
   "metadata": {},
   "source": [
    "## 11. Días de vacaciones\n",
    "\n",
    "<img src=\"Images/vacaciones.jpg\" style=\"width: 500px;\"/>\n",
    "\n",
    "Durante mis vacaciones llovió 9 días, y hubo 10 mañanas y 9 tardes soleadas. Cuando llovió por la mañana, la tarde fue soleada.\n",
    "¿Cuántos días duraron mis vacaciones?"
   ]
  },
  {
   "cell_type": "markdown",
   "metadata": {},
   "source": [
    "**Ningún día llovió mañana y tarde.**\n",
    "\n",
    "**Si \"x\" es es número de días que llovió por la mañana e \"y\" es el numero de dias que llovió por la tarde podemos afirmar la igualdad:**\n",
    "\n",
    "**10 + x = 9 + y**\n",
    "\n",
    "**Además según el enunciado x + y = 9**\n",
    "\n",
    "**Resolviendo x = 4**\n",
    "\n",
    "**Por tanto el total es 10 + x = 10 + 4 = 14 días**"
   ]
  },
  {
   "cell_type": "code",
   "execution_count": null,
   "metadata": {},
   "outputs": [],
   "source": []
  }
 ],
 "metadata": {
  "kernelspec": {
   "display_name": "Python 3",
   "language": "python",
   "name": "python3"
  },
  "language_info": {
   "codemirror_mode": {
    "name": "ipython",
    "version": 3
   },
   "file_extension": ".py",
   "mimetype": "text/x-python",
   "name": "python",
   "nbconvert_exporter": "python",
   "pygments_lexer": "ipython3",
   "version": "3.7.3"
  }
 },
 "nbformat": 4,
 "nbformat_minor": 2
}
