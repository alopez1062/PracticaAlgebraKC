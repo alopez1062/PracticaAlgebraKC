{
  "nbformat": 4,
  "nbformat_minor": 0,
  "metadata": {
    "kernelspec": {
      "display_name": "Python 3",
      "language": "python",
      "name": "python3"
    },
    "language_info": {
      "codemirror_mode": {
        "name": "ipython",
        "version": 3
      },
      "file_extension": ".py",
      "mimetype": "text/x-python",
      "name": "python",
      "nbconvert_exporter": "python",
      "pygments_lexer": "ipython3",
      "version": "3.7.3"
    },
    "colab": {
      "name": "ALG00_Practica_AlejandroLopezSanchez.ipynb",
      "provenance": [],
      "collapsed_sections": []
    }
  },
  "cells": [
    {
      "cell_type": "markdown",
      "metadata": {
        "id": "K0qqyWSOVmIw",
        "colab_type": "text"
      },
      "source": [
        "# Práctica"
      ]
    },
    {
      "cell_type": "markdown",
      "metadata": {
        "id": "Y3jLccfdVmIx",
        "colab_type": "text"
      },
      "source": [
        "## 1. La conjetura de Collatz\n",
        "\n",
        "<img src=\"Images/comic_collatz.png\" style=\"width: 400px;\"/>\n",
        "\n",
        "Empiezas con un número entero natural cualquiera (1, 2, 3, 4, 5...).  \n",
        "Si el número es par, lo divides por 2  \n",
        "Si es impar, lo multiplicas por 3 y le sumas 1  \n",
        "\n",
        "Escribir un procedimiento en Python que implemente el mecanismo de la conjetura de Collatz para cualquier número entero positivo."
      ]
    },
    {
      "cell_type": "code",
      "metadata": {
        "id": "esgZOGkpVmIx",
        "colab_type": "code",
        "colab": {}
      },
      "source": [
        "def conjetura_collatz(numero):\n",
        "    if numero == 1:\n",
        "        print(\"¡Que casualidad hemos vuelto a llegar al 1!\")\n",
        "        return\n",
        "    elif numero%2 == 0:\n",
        "        nuevo_numero = numero // 2\n",
        "        print(\"{} / 2 = {}\".format(numero, nuevo_numero))\n",
        "    else:\n",
        "        nuevo_numero = numero * 3 + 1\n",
        "        print(\"{} * 3 + 1 = {}\".format(numero, nuevo_numero))\n",
        "    conjetura_collatz(nuevo_numero)"
      ],
      "execution_count": 0,
      "outputs": []
    },
    {
      "cell_type": "code",
      "metadata": {
        "id": "1kKNpw0iVmI2",
        "colab_type": "code",
        "outputId": "77b1c8e0-2fec-4b5e-cc31-e743d3521c1e",
        "colab": {
          "base_uri": "https://localhost:8080/",
          "height": 153
        }
      },
      "source": [
        "numero = int(input(\"Introduce un número natural mayor que 0: \"))\n",
        "while numero < 1:\n",
        "    numero = int(input(\"Error. Introduce un número natural mayor que 0: \"))\n",
        "conjetura_collatz(numero)"
      ],
      "execution_count": 0,
      "outputs": [
        {
          "output_type": "stream",
          "text": [
            "Introduce un número natural mayor que 0: -1\n",
            "Error. Introduce un número natural mayor que 0: 5\n",
            "5 * 3 + 1 = 16\n",
            "16 / 2 = 8\n",
            "8 / 2 = 4\n",
            "4 / 2 = 2\n",
            "2 / 2 = 1\n",
            "¡Que casualidad hemos vuelto a llegar al 1!\n"
          ],
          "name": "stdout"
        }
      ]
    },
    {
      "cell_type": "markdown",
      "metadata": {
        "id": "-WbEogj4VmI5",
        "colab_type": "text"
      },
      "source": [
        "## 2. Suma y producto escalar combinados\n",
        "\n",
        "Usando los procedimientos add y mult_vector_escalar definidos en el notebook **ALG05_Vectores**, calcular:   \n",
        "{$\\alpha$[1,2]+[3,4] : $\\alpha$$\\in$$\\mathbb{R}$, 0$\\leq$$\\alpha$$\\leq$1, con una precision de dos decimales (para la multiplicación)}"
      ]
    },
    {
      "cell_type": "code",
      "metadata": {
        "id": "29CNigIJVmI6",
        "colab_type": "code",
        "colab": {}
      },
      "source": [
        "def addn(v ,w):\n",
        "    if len(v) != len(w):\n",
        "        print(\"No se puede realizar la suma porque los vetores no tienen la misma longitud\")\n",
        "        return\n",
        "    return[v[i]+w[i] for i in range(len(v))]"
      ],
      "execution_count": 0,
      "outputs": []
    },
    {
      "cell_type": "code",
      "metadata": {
        "id": "lEoh9NjBVmI8",
        "colab_type": "code",
        "colab": {}
      },
      "source": [
        "def mult_esc_vector(alpha, v):\n",
        "    return [alpha * v[i] for i in range(len(v))]"
      ],
      "execution_count": 0,
      "outputs": []
    },
    {
      "cell_type": "code",
      "metadata": {
        "id": "c_ZIw0tCVmI_",
        "colab_type": "code",
        "outputId": "10a5b7b7-d530-4247-cff4-0b3a24b7e7db",
        "colab": {
          "base_uri": "https://localhost:8080/",
          "height": 1000
        }
      },
      "source": [
        "import numpy as np\n",
        "\n",
        "vector1 = [1,2]\n",
        "vector2 = [3,4]\n",
        "escalares = [x for x in np.arange(0,1.01, 0.01)]\n",
        "resultado = [addn(mult_esc_vector(x, vector1), vector2) for x in escalares]\n",
        "\n",
        "for i, vector in enumerate(resultado):\n",
        "    print(\"Para el escalar {:.2f} el vector resultante es: [{:.2f}, {:.2f}]\".format(escalares[i], vector[0], vector[1]))\n",
        "    \n",
        "    "
      ],
      "execution_count": 0,
      "outputs": [
        {
          "output_type": "stream",
          "text": [
            "Para el escalar 0.00 el vector resultante es: [3.00, 4.00]\n",
            "Para el escalar 0.01 el vector resultante es: [3.01, 4.02]\n",
            "Para el escalar 0.02 el vector resultante es: [3.02, 4.04]\n",
            "Para el escalar 0.03 el vector resultante es: [3.03, 4.06]\n",
            "Para el escalar 0.04 el vector resultante es: [3.04, 4.08]\n",
            "Para el escalar 0.05 el vector resultante es: [3.05, 4.10]\n",
            "Para el escalar 0.06 el vector resultante es: [3.06, 4.12]\n",
            "Para el escalar 0.07 el vector resultante es: [3.07, 4.14]\n",
            "Para el escalar 0.08 el vector resultante es: [3.08, 4.16]\n",
            "Para el escalar 0.09 el vector resultante es: [3.09, 4.18]\n",
            "Para el escalar 0.10 el vector resultante es: [3.10, 4.20]\n",
            "Para el escalar 0.11 el vector resultante es: [3.11, 4.22]\n",
            "Para el escalar 0.12 el vector resultante es: [3.12, 4.24]\n",
            "Para el escalar 0.13 el vector resultante es: [3.13, 4.26]\n",
            "Para el escalar 0.14 el vector resultante es: [3.14, 4.28]\n",
            "Para el escalar 0.15 el vector resultante es: [3.15, 4.30]\n",
            "Para el escalar 0.16 el vector resultante es: [3.16, 4.32]\n",
            "Para el escalar 0.17 el vector resultante es: [3.17, 4.34]\n",
            "Para el escalar 0.18 el vector resultante es: [3.18, 4.36]\n",
            "Para el escalar 0.19 el vector resultante es: [3.19, 4.38]\n",
            "Para el escalar 0.20 el vector resultante es: [3.20, 4.40]\n",
            "Para el escalar 0.21 el vector resultante es: [3.21, 4.42]\n",
            "Para el escalar 0.22 el vector resultante es: [3.22, 4.44]\n",
            "Para el escalar 0.23 el vector resultante es: [3.23, 4.46]\n",
            "Para el escalar 0.24 el vector resultante es: [3.24, 4.48]\n",
            "Para el escalar 0.25 el vector resultante es: [3.25, 4.50]\n",
            "Para el escalar 0.26 el vector resultante es: [3.26, 4.52]\n",
            "Para el escalar 0.27 el vector resultante es: [3.27, 4.54]\n",
            "Para el escalar 0.28 el vector resultante es: [3.28, 4.56]\n",
            "Para el escalar 0.29 el vector resultante es: [3.29, 4.58]\n",
            "Para el escalar 0.30 el vector resultante es: [3.30, 4.60]\n",
            "Para el escalar 0.31 el vector resultante es: [3.31, 4.62]\n",
            "Para el escalar 0.32 el vector resultante es: [3.32, 4.64]\n",
            "Para el escalar 0.33 el vector resultante es: [3.33, 4.66]\n",
            "Para el escalar 0.34 el vector resultante es: [3.34, 4.68]\n",
            "Para el escalar 0.35 el vector resultante es: [3.35, 4.70]\n",
            "Para el escalar 0.36 el vector resultante es: [3.36, 4.72]\n",
            "Para el escalar 0.37 el vector resultante es: [3.37, 4.74]\n",
            "Para el escalar 0.38 el vector resultante es: [3.38, 4.76]\n",
            "Para el escalar 0.39 el vector resultante es: [3.39, 4.78]\n",
            "Para el escalar 0.40 el vector resultante es: [3.40, 4.80]\n",
            "Para el escalar 0.41 el vector resultante es: [3.41, 4.82]\n",
            "Para el escalar 0.42 el vector resultante es: [3.42, 4.84]\n",
            "Para el escalar 0.43 el vector resultante es: [3.43, 4.86]\n",
            "Para el escalar 0.44 el vector resultante es: [3.44, 4.88]\n",
            "Para el escalar 0.45 el vector resultante es: [3.45, 4.90]\n",
            "Para el escalar 0.46 el vector resultante es: [3.46, 4.92]\n",
            "Para el escalar 0.47 el vector resultante es: [3.47, 4.94]\n",
            "Para el escalar 0.48 el vector resultante es: [3.48, 4.96]\n",
            "Para el escalar 0.49 el vector resultante es: [3.49, 4.98]\n",
            "Para el escalar 0.50 el vector resultante es: [3.50, 5.00]\n",
            "Para el escalar 0.51 el vector resultante es: [3.51, 5.02]\n",
            "Para el escalar 0.52 el vector resultante es: [3.52, 5.04]\n",
            "Para el escalar 0.53 el vector resultante es: [3.53, 5.06]\n",
            "Para el escalar 0.54 el vector resultante es: [3.54, 5.08]\n",
            "Para el escalar 0.55 el vector resultante es: [3.55, 5.10]\n",
            "Para el escalar 0.56 el vector resultante es: [3.56, 5.12]\n",
            "Para el escalar 0.57 el vector resultante es: [3.57, 5.14]\n",
            "Para el escalar 0.58 el vector resultante es: [3.58, 5.16]\n",
            "Para el escalar 0.59 el vector resultante es: [3.59, 5.18]\n",
            "Para el escalar 0.60 el vector resultante es: [3.60, 5.20]\n",
            "Para el escalar 0.61 el vector resultante es: [3.61, 5.22]\n",
            "Para el escalar 0.62 el vector resultante es: [3.62, 5.24]\n",
            "Para el escalar 0.63 el vector resultante es: [3.63, 5.26]\n",
            "Para el escalar 0.64 el vector resultante es: [3.64, 5.28]\n",
            "Para el escalar 0.65 el vector resultante es: [3.65, 5.30]\n",
            "Para el escalar 0.66 el vector resultante es: [3.66, 5.32]\n",
            "Para el escalar 0.67 el vector resultante es: [3.67, 5.34]\n",
            "Para el escalar 0.68 el vector resultante es: [3.68, 5.36]\n",
            "Para el escalar 0.69 el vector resultante es: [3.69, 5.38]\n",
            "Para el escalar 0.70 el vector resultante es: [3.70, 5.40]\n",
            "Para el escalar 0.71 el vector resultante es: [3.71, 5.42]\n",
            "Para el escalar 0.72 el vector resultante es: [3.72, 5.44]\n",
            "Para el escalar 0.73 el vector resultante es: [3.73, 5.46]\n",
            "Para el escalar 0.74 el vector resultante es: [3.74, 5.48]\n",
            "Para el escalar 0.75 el vector resultante es: [3.75, 5.50]\n",
            "Para el escalar 0.76 el vector resultante es: [3.76, 5.52]\n",
            "Para el escalar 0.77 el vector resultante es: [3.77, 5.54]\n",
            "Para el escalar 0.78 el vector resultante es: [3.78, 5.56]\n",
            "Para el escalar 0.79 el vector resultante es: [3.79, 5.58]\n",
            "Para el escalar 0.80 el vector resultante es: [3.80, 5.60]\n",
            "Para el escalar 0.81 el vector resultante es: [3.81, 5.62]\n",
            "Para el escalar 0.82 el vector resultante es: [3.82, 5.64]\n",
            "Para el escalar 0.83 el vector resultante es: [3.83, 5.66]\n",
            "Para el escalar 0.84 el vector resultante es: [3.84, 5.68]\n",
            "Para el escalar 0.85 el vector resultante es: [3.85, 5.70]\n",
            "Para el escalar 0.86 el vector resultante es: [3.86, 5.72]\n",
            "Para el escalar 0.87 el vector resultante es: [3.87, 5.74]\n",
            "Para el escalar 0.88 el vector resultante es: [3.88, 5.76]\n",
            "Para el escalar 0.89 el vector resultante es: [3.89, 5.78]\n",
            "Para el escalar 0.90 el vector resultante es: [3.90, 5.80]\n",
            "Para el escalar 0.91 el vector resultante es: [3.91, 5.82]\n",
            "Para el escalar 0.92 el vector resultante es: [3.92, 5.84]\n",
            "Para el escalar 0.93 el vector resultante es: [3.93, 5.86]\n",
            "Para el escalar 0.94 el vector resultante es: [3.94, 5.88]\n",
            "Para el escalar 0.95 el vector resultante es: [3.95, 5.90]\n",
            "Para el escalar 0.96 el vector resultante es: [3.96, 5.92]\n",
            "Para el escalar 0.97 el vector resultante es: [3.97, 5.94]\n",
            "Para el escalar 0.98 el vector resultante es: [3.98, 5.96]\n",
            "Para el escalar 0.99 el vector resultante es: [3.99, 5.98]\n",
            "Para el escalar 1.00 el vector resultante es: [4.00, 6.00]\n"
          ],
          "name": "stdout"
        }
      ]
    },
    {
      "cell_type": "markdown",
      "metadata": {
        "id": "lHwk7rLfVmJB",
        "colab_type": "text"
      },
      "source": [
        "## 3. El secreto perfecto\n",
        "\n",
        "Representa la encriptación de la adicción de un n-vector a un n-vector de GF(2)  \n",
        "\n",
        "<img src=\"Images/mortadelo-filemon.jpg\" style=\"width: 300px;\"/>\n",
        "\n",
        "Mortadelo y Filemón usan como clave el siguiente vector:  \n",
        "**k**=[0,1,0,0,1,0,1,0,1,0] \n",
        "\n",
        "Mortadelo quiere enviarle a Filemón el siguiente mensaje:  \n",
        "**p**=[0,0,0,1,1,1,0,1,0,1] \n",
        "\n",
        "Mortadelo encripta su mensaje añadiendo k: \n",
        "**c**=**p**+**k**=[0,0,0,1,1,1,0,1,0,1]+[0,1,0,0,1,0,1,0,1,0]=[0,1,0,1,0,1,1,1,1,1] \n",
        "\n",
        "Cuando Filemón recibe el mensaje, lo desencripta añadiendo **k** a lo que ha recibido \n",
        "**p**=**c**+**k**=[0,1,0,1,0,1,1,1,1,1]+[0,1,0,0,1,0,1,0,1,0]=[0,0,0,1,1,1,0,1,0,1]    \n",
        "\n",
        "que es el mensaje original.\n",
        "\n",
        "La idea es crear un procedimiento para que Filemón:\n",
        "* No tenga que hacer este proceso manualmente cada vez que Mortadelo le envíe un mensaje encriptado para descifrarlo\n",
        "* Si deciden cambiar la clave, que el procedimiento cambie mínimamente\n",
        "\n",
        "  \n"
      ]
    },
    {
      "cell_type": "code",
      "metadata": {
        "id": "wBgOgolJVmJC",
        "colab_type": "code",
        "colab": {}
      },
      "source": [
        "def add_vector_GF2(k,c):\n",
        "    if len(k) != len(c):\n",
        "        print(\"Error: la longitud del vector no coincide con el de la clave.\")\n",
        "        return\n",
        "    return[(k[i]+c[i])%2 for i in range(len(k))]"
      ],
      "execution_count": 0,
      "outputs": []
    },
    {
      "cell_type": "code",
      "metadata": {
        "id": "EeNg-AkkVmJH",
        "colab_type": "code",
        "outputId": "6dfdf114-63a6-42dc-aa93-9a62939bd187",
        "colab": {
          "base_uri": "https://localhost:8080/",
          "height": 51
        }
      },
      "source": [
        "# Comprobamos el ejemplo\n",
        "k = [0,1,0,0,1,0,1,0,1,0]\n",
        "p = [0,0,0,1,1,1,0,1,0,1]\n",
        "c = [0,1,0,1,0,1,1,1,1,1]\n",
        "# Encriptamos el vector\n",
        "vector_enc = add_vector_GF2(k, p)\n",
        "# Comprobamos que es correcta\n",
        "if vector_enc == c:\n",
        "    print(f\"Encriptación correcta: {c} = {vector_enc}\")\n",
        "# Desencriptamos el vector\n",
        "vector_desenc = add_vector_GF2(k, vector_enc)\n",
        "# Comprobamos que es correcta\n",
        "if vector_desenc == p:\n",
        "    print(f\"Desencriptación correcta: {p} = {vector_desenc}\")"
      ],
      "execution_count": 0,
      "outputs": [
        {
          "output_type": "stream",
          "text": [
            "Encriptación correcta: [0, 1, 0, 1, 0, 1, 1, 1, 1, 1] = [0, 1, 0, 1, 0, 1, 1, 1, 1, 1]\n",
            "Desencriptación correcta: [0, 0, 0, 1, 1, 1, 0, 1, 0, 1] = [0, 0, 0, 1, 1, 1, 0, 1, 0, 1]\n"
          ],
          "name": "stdout"
        }
      ]
    },
    {
      "cell_type": "markdown",
      "metadata": {
        "id": "17_Nmfu7VmJK",
        "colab_type": "text"
      },
      "source": [
        "## 4. ¿Cuánto cuesta hacer una cerveza?\n",
        "\n",
        "<img src=\"Images/cerveza.jpg\" style=\"width: 300px;\"/>\n",
        "\n",
        "Supongamos que D es el conjunto de algunos ingredientes de la cerveza: \n",
        "> D={lúpulo, malta, agua, levadura} \n",
        "\n",
        "Por otro lado tenemos el vector coste:\n",
        "> coste={lúpulo: 2,5€, malta: 1.5€, agua: 0.006€, levadura: 0,45€}  \n",
        "\n",
        "Por último tenemos el vector cantidad con lo necesario para hacer una cerveza:\n",
        "> cantidad={lúpulo: 6u, malta: 14u, agua: 7u, levadura: 11u} \n",
        "\n",
        "¿Cuánto cuesta hacer una cerveza?"
      ]
    },
    {
      "cell_type": "code",
      "metadata": {
        "id": "CxatIfOvVmJK",
        "colab_type": "code",
        "colab": {}
      },
      "source": [
        "# Debemos usar el producto escalar o interno entre el vector de coste y el vector de cantidad\n",
        "# Si en el dicionario hay una cantidad sin coste le damos precio 0\n",
        "def precio_cerveza(coste, cantidad):\n",
        "    return sum([coste.get(ing) * cantidad.get(ing) \n",
        "                if coste.get(ing) is not None else 0\n",
        "                for ing in cantidad])"
      ],
      "execution_count": 0,
      "outputs": []
    },
    {
      "cell_type": "code",
      "metadata": {
        "id": "BDVjpeguVmJM",
        "colab_type": "code",
        "outputId": "a68c77bc-24e1-436f-fef5-ca039f9b17ab",
        "colab": {
          "base_uri": "https://localhost:8080/",
          "height": 34
        }
      },
      "source": [
        "coste={\"lúpulo\": 2.5, \"malta\": 1.5, \"agua\": 0.006, \"levadura\": 0.45}\n",
        "cantidad={\"lúpulo\": 6, \"malta\": 14, \"agua\": 7, \"levadura\": 11}\n",
        "coste_cerveza = precio_cerveza(coste, cantidad)\n",
        "print(f\"El coste de hacer una cerveza es {coste_cerveza:.2f} €.\")"
      ],
      "execution_count": 0,
      "outputs": [
        {
          "output_type": "stream",
          "text": [
            "El coste de hacer una cerveza es 40.99 €.\n"
          ],
          "name": "stdout"
        }
      ]
    },
    {
      "cell_type": "markdown",
      "metadata": {
        "id": "8HUTswcVVmJO",
        "colab_type": "text"
      },
      "source": [
        "## 5. La carrera de caballos\n",
        "\n",
        "Tres caballos A, B y C compiten en una carrera.  \n",
        "Las apuestas para dar como vencedor a cada uno de ellos son de 4 a 1 para A, 3 a 1 para B y 2 a 1 para C, tomando las unidades siempre en euros.  \n",
        "¿Cuánto debo apostar por cada caballo para asegurarme recibir 13 euros en toal, sin importar qué csaballo gane la carrera?"
      ]
    },
    {
      "cell_type": "markdown",
      "metadata": {
        "id": "ZlRaBhPoVmJP",
        "colab_type": "text"
      },
      "source": [
        "Sean x,y,z el dinero apostado por los caballos A, B y C respectivamente.\n",
        "El objetivo del problema escalcular la cantidad que debe apostarse por cada caballo de forma que la suma del dinero recibido y perdido en ñas apuestas sea siempre igual a 13€.  \n",
        "Así, podemos plantear un sistema de tres ecuaciones con tres incógnitas, en el que igualaremos matemáticamente la cantidad percibida por la victoria de los caballos A, B, C y, al mismo tiempo, señalaremos que esta cantidad corresponde a 13€.  \n",
        "\n",
        "> 4x-y-z=3y-x-z  \n",
        "> 3y-x-z=2z-x-y  \n",
        "> 2z-x-y=13\n"
      ]
    },
    {
      "cell_type": "code",
      "metadata": {
        "id": "xWTtrOMnVmJP",
        "colab_type": "code",
        "outputId": "4e4b916a-c788-4411-8390-1d31f4345d26",
        "colab": {
          "base_uri": "https://localhost:8080/",
          "height": 51
        }
      },
      "source": [
        "# operamos el sistema y queda de la forma\n",
        "# 5x - 4y + 0z = 0\n",
        "# 0x + 4y - 3z = 0\n",
        "# -1x -1y + 2z = 13\n",
        "# Comprobamos el rango de la matriz de coeficientes y de la matriz ampliada\n",
        "\n",
        "import numpy as np\n",
        "\n",
        "matriz_coef = np.matrix([\n",
        "    [5,-4,0],\n",
        "    [0,4,-3],\n",
        "    [-1,-1,2]\n",
        "])\n",
        "\n",
        "rango_matriz_coef = np.linalg.matrix_rank(matriz_coef)\n",
        "\n",
        "\n",
        "matriz_ampl = np.matrix([\n",
        "    [5,-4,0,0],\n",
        "    [0,4,-3,0],\n",
        "    [-1,-1,2,13]\n",
        "])\n",
        "\n",
        "rango_matriz_ampl = np.linalg.matrix_rank(matriz_ampl)\n",
        "\n",
        "print(\"El rango de la matriz de coeficientes es:\", rango_matriz_coef)\n",
        "print(\"El rango de la matriz ampliada es:\", rango_matriz_ampl)"
      ],
      "execution_count": 0,
      "outputs": [
        {
          "output_type": "stream",
          "text": [
            "El rango de la matriz de coeficientes es: 3\n",
            "El rango de la matriz ampliada es: 3\n"
          ],
          "name": "stdout"
        }
      ]
    },
    {
      "cell_type": "code",
      "metadata": {
        "id": "sSxio-utVmJS",
        "colab_type": "code",
        "outputId": "3a50638a-eda7-49f3-abb4-00c9c6b03329",
        "colab": {
          "base_uri": "https://localhost:8080/",
          "height": 85
        }
      },
      "source": [
        "# Como los rangos son iguales podemos asegurar que el sistema tendrá una única solución\n",
        "\n",
        "import sympy as sp\n",
        "from sympy.abc import x,y,z\n",
        "\n",
        "A = sp.Matrix(matriz_ampl)\n",
        "\n",
        "solucion = sp.solve_linear_system(A,x,y,z)\n",
        "print(\"Para obetener siempre 13 € de beneficio, tendremos que invertir:\")\n",
        "print(\"- {} € al caballo A.\".format(solucion[x]))\n",
        "print(\"- {} € al caballo B.\".format(solucion[y]))\n",
        "print(\"- {} € al caballo C.\".format(solucion[z]))"
      ],
      "execution_count": 0,
      "outputs": [
        {
          "output_type": "stream",
          "text": [
            "Para obetener siempre 13 € de beneficio, tendremos que invertir:\n",
            "- 12 € al caballo A.\n",
            "- 15 € al caballo B.\n",
            "- 20 € al caballo C.\n"
          ],
          "name": "stdout"
        }
      ]
    },
    {
      "cell_type": "markdown",
      "metadata": {
        "id": "9jblirmrVmJV",
        "colab_type": "text"
      },
      "source": [
        "## 6. Dimensión de matrices\n",
        "\n",
        "Sea la matriz $\n",
        "  M=\n",
        "  \\left[ {\\begin{array}{cc}\n",
        "   1 & 0  & 0 & 5 \\\\\n",
        "   0 & 2  & 0 & 7 \\\\\n",
        "   0 & 0  & 3 & 9 \\\\\n",
        "  \\end{array} } \\right]\n",
        "$. Calcular el rango por filas y por columnas usando Python."
      ]
    },
    {
      "cell_type": "code",
      "metadata": {
        "id": "5iYJV46IVmJV",
        "colab_type": "code",
        "outputId": "a2b161e0-e3bf-438f-8ce5-c46884b3d3b0",
        "colab": {
          "base_uri": "https://localhost:8080/",
          "height": 34
        }
      },
      "source": [
        "# rango por filas\n",
        "import numpy as np\n",
        "\n",
        "M = np.matrix([\n",
        "    [1,0,0,5],\n",
        "    [0,2,0,7],\n",
        "    [0,0,3,9]\n",
        "])\n",
        "\n",
        "rank_M = np.linalg.matrix_rank(M)\n",
        "print(\"El rango de la matriz es:\", rank_M)"
      ],
      "execution_count": 0,
      "outputs": [
        {
          "output_type": "stream",
          "text": [
            "El rango de la matriz es: 3\n"
          ],
          "name": "stdout"
        }
      ]
    },
    {
      "cell_type": "code",
      "metadata": {
        "id": "uriQo9JCVmJY",
        "colab_type": "code",
        "outputId": "92775540-587f-4086-b0a4-7253def43eca",
        "colab": {
          "base_uri": "https://localhost:8080/",
          "height": 51
        }
      },
      "source": [
        "# rango por columnas\n",
        "import numpy as np\n",
        "\n",
        "M = np.matrix([\n",
        "    [1,0,0],\n",
        "    [0,2,0],\n",
        "    [0,0,3],\n",
        "    [5,7,9]\n",
        "])\n",
        "\n",
        "rank_M = np.linalg.matrix_rank(M)\n",
        "\n",
        "print(\"El rango de la matriz es:\", rank_M)\n",
        "\n",
        "print(\"La columna [5,7,9] puede expresarse como combinación lineal de las tres primeras.\")"
      ],
      "execution_count": 0,
      "outputs": [
        {
          "output_type": "stream",
          "text": [
            "El rango de la matriz es: 3\n",
            "La columna [5,7,9] puede expresarse como combinación lineal de las tres primeras.\n"
          ],
          "name": "stdout"
        }
      ]
    },
    {
      "cell_type": "markdown",
      "metadata": {
        "id": "xSNXODYaVmJa",
        "colab_type": "text"
      },
      "source": [
        "## 7. Bosque de extensión mínima\n",
        "\n",
        "<img src=\"Images/bosque.png\" style=\"width: 800px;\"/>\n",
        "\n",
        "En clase hemos hecho el caso del grafo de la derecha. Le toca el turno al de la izquierda.\n",
        "Supongamos que queremos diseñar la red de internet para el otro campus universitario.  \n",
        "La red debe lograr la misma conectividad que el grafo de entrada.  \n",
        "Una arista representa un posible cable.  \n",
        "El peso de la arista es el coste de instalar el cable.  \n",
        "Nuestro objetivo es minimizar el coste total, usando el algoritmo Grow y el algoritmo Shrink.\n",
        "Lo único que en este caso se pide crear un procedimiento para el algoritmo Grow y otro para el Shrink que lo hagan automáticamente una vez les metamos como parámetros las aristas y sus pesos"
      ]
    },
    {
      "cell_type": "code",
      "metadata": {
        "id": "u0Gby4A6jE1y",
        "colab_type": "code",
        "colab": {}
      },
      "source": [
        "def numero_de_vertices(grafo):\n",
        "    todos_los_vertices = set()\n",
        "    for nodo in grafo:\n",
        "        for vertice in nodo[0]:\n",
        "            todos_los_vertices.add(vertice)\n",
        "    return len(todos_los_vertices)"
      ],
      "execution_count": 0,
      "outputs": []
    },
    {
      "cell_type": "code",
      "metadata": {
        "id": "-pWtaFIIVmJa",
        "colab_type": "code",
        "colab": {}
      },
      "source": [
        "def algoritmo_grow(grafo):\n",
        "    numero_vertices = numero_de_vertices(grafo)\n",
        "    # ordenamos la lista por el peso de la arista, para ello damos la vuelta al grafo poniendo primero el peso\n",
        "    grafo = [(i[1], i[0]) for i in grafo]\n",
        "    grafo.sort()\n",
        "    # creamos el bosque que vamos a devolver como solucion\n",
        "    forest = []\n",
        "    # creamos un conjunto de vértices\n",
        "    vertices = set()\n",
        "    # recorremos los nodos dl grafo y vamos a comprobar que alguno de los vértices no esté en nuestro\n",
        "    # bosque, si alguno de los dos vértices no está agregamos el nodo, no nos tenemos que preocupar de la arista\n",
        "    # porque ya está ordenado\n",
        "    for nodo in grafo:\n",
        "        vertices_del_nodo = nodo[1]\n",
        "        for vertice in vertices_del_nodo:\n",
        "            if vertice not in vertices:\n",
        "                forest.append(nodo)\n",
        "                for vertice in vertices_del_nodo:\n",
        "                  vertices.add(vertice) \n",
        "                break\n",
        "    # comprobamos que no creamos islas para ello necesitamos una arista menos que el total de vértices, cogemos la\n",
        "    # arista que tenga menor peso de las que no estén en el bosque que vamos a devolver\n",
        "    while len(forest) < (numero_vertices-1):\n",
        "        for nodo in grafo:\n",
        "            if nodo not in forest:\n",
        "                forest.append(nodo)\n",
        "                break\n",
        "    # volvemos a darle la vuelta al grafo para devolverlo como nos los entregaron\n",
        "    forest = [(i[1], i[0]) for i in forest]\n",
        "    return forest"
      ],
      "execution_count": 0,
      "outputs": []
    },
    {
      "cell_type": "code",
      "metadata": {
        "id": "4cdJM1D_VmJh",
        "colab_type": "code",
        "outputId": "b2dd359e-f9a1-4b47-e43c-24fe6d248a2c",
        "colab": {
          "base_uri": "https://localhost:8080/",
          "height": 51
        }
      },
      "source": [
        "grafo = [({\"Pembroke Campus\",\"Athletic Complex\"},7),\n",
        "         ({\"Pembroke Campus\",\"Bio_Med\"},2),\n",
        "         ({\"Athletic Complex\",\"Bio_Med\"},9)\n",
        "        ]\n",
        "\n",
        "algoritmo_grow(grafo)"
      ],
      "execution_count": 46,
      "outputs": [
        {
          "output_type": "execute_result",
          "data": {
            "text/plain": [
              "[({'Bio_Med', 'Pembroke Campus'}, 2),\n",
              " ({'Athletic Complex', 'Pembroke Campus'}, 7)]"
            ]
          },
          "metadata": {
            "tags": []
          },
          "execution_count": 46
        }
      ]
    },
    {
      "cell_type": "code",
      "metadata": {
        "id": "QI37Fa_EVmJj",
        "colab_type": "code",
        "colab": {}
      },
      "source": [
        "def algoritmo_shrink(grafo):\n",
        "    numero_vertices = numero_de_vertices(grafo)\n",
        "    # ordenamos grafo de mayor a menor peso de arista y creamos una copia del grafo por si la tenemos que usar mas tarde\n",
        "    grafo = [(i[1], i[0]) for i in grafo]\n",
        "    copia_grafo = grafo.copy()\n",
        "    copia_grafo.sort()\n",
        "    grafo.sort(reverse=True)\n",
        "    # vamos a recorrer el grafo por su indice y eliminando los nodos sobrantes\n",
        "    i = 0\n",
        "    while i < len(grafo):\n",
        "        # guardamos los vértices del nodo que vamos a analizar\n",
        "        vertices = list(grafo[i][1].copy())\n",
        "        control_1 = False\n",
        "        control_2 = False\n",
        "        # commprobamos si el primer vértice está en algún otro nodo\n",
        "        for j in range(i+1,len(grafo)):\n",
        "            if vertices[0] in grafo[j][1]:\n",
        "                control_1 = True\n",
        "                break\n",
        "        # si el primer vertice esta en otro nodo comprobamos si el segundo vértice está en algún otro nodo\n",
        "        if control_1:\n",
        "            for j in range(i+1,len(grafo)):\n",
        "                if vertices[1] in grafo[j][1]:\n",
        "                    control_2 = True\n",
        "                    break\n",
        "            # si los dos vértices estaban en otros nodos eliminamos el nodo y mantenemos la i con el mismo valor\n",
        "            if control_2:\n",
        "                grafo.pop(i)\n",
        "            # si alguno de los dos vértices no estaba dejamos el nodo y sumamos uno a la i\n",
        "            else:\n",
        "                i += 1  \n",
        "        else:\n",
        "            i += 1\n",
        "    # comprobamos que no creamos islas para ello necesitamos una arista menos que el total de vértices, cogemos la\n",
        "    # arista que tenga menor peso de las que no estén en el bosque que vamos a devolver\n",
        "    while len(grafo) < (numero_vertices-1):\n",
        "        for nodo in copia_grafo:\n",
        "            if nodo not in grafo:\n",
        "                grafo.append(nodo)\n",
        "                break    \n",
        "    # volvemos a darle la vuelta al grafo para devolverlo como nos los entregaron\n",
        "    grafo = [(i[1], i[0]) for i in grafo]\n",
        "    return grafo"
      ],
      "execution_count": 0,
      "outputs": []
    },
    {
      "cell_type": "code",
      "metadata": {
        "id": "BZ6D3LVfVmJl",
        "colab_type": "code",
        "outputId": "0706b485-1eeb-40d8-c778-6ce5e012c542",
        "colab": {
          "base_uri": "https://localhost:8080/",
          "height": 51
        }
      },
      "source": [
        "grafo = [({\"Pembroke Campus\",\"Athletic Complex\"},7),\n",
        "         ({\"Pembroke Campus\",\"Bio_Med\"},2),\n",
        "         ({\"Athletic Complex\",\"Bio_Med\"},9)\n",
        "        ]\n",
        "\n",
        "algoritmo_shrink(grafo)"
      ],
      "execution_count": 49,
      "outputs": [
        {
          "output_type": "execute_result",
          "data": {
            "text/plain": [
              "[({'Athletic Complex', 'Pembroke Campus'}, 7),\n",
              " ({'Bio_Med', 'Pembroke Campus'}, 2)]"
            ]
          },
          "metadata": {
            "tags": []
          },
          "execution_count": 49
        }
      ]
    },
    {
      "cell_type": "markdown",
      "metadata": {
        "id": "FwjOUzUoVmJn",
        "colab_type": "text"
      },
      "source": [
        "## 8. El dígito móvil\n",
        "\n",
        "<img src=\"Images/imagenx2.png\" style=\"width: 500px;\"/>\n",
        "\n",
        "Hallar un número tal que, multiplicado por 3 y dividido entre 2, dé el mismo resultado que si moviéramos el primer dígito del número, el 3, desde el principio hasta el final de la fila de dígitos\n",
        "\n",
        "PISTA: Los únicos números que, al ser multiplicados por determinadas cifras, producen otros números cuyos dígitos siguen la misma secuencia que el número original aunque comenzando por otro de sus dígitos, son los períodos de los números decimales periódicos. Estos números se dicen **cíclicos**.  \n",
        "Nosotros queremos buscar un número de este tipo\n",
        "\n",
        "PISTA: No hay que resolverlo con Python"
      ]
    },
    {
      "cell_type": "markdown",
      "metadata": {
        "id": "Je0hj3V5VmJo",
        "colab_type": "text"
      },
      "source": [
        "**Si dividimos 1/17 obtenemos el cociente 0588235294117647 que multiplicado por 6 que es uno de los restos de la división nos da 3529411764705882 que multiplicado por 3/2 = 5294117647058823 que ha movido el 3 a la última cifra.**"
      ]
    },
    {
      "cell_type": "markdown",
      "metadata": {
        "id": "-zhesmDVVmJo",
        "colab_type": "text"
      },
      "source": [
        "## 9. Agujas superpuestas\n",
        "\n",
        "<img src=\"Images/reloj-movimiento--478x578.jpg\" style=\"width: 250px;\"/>\n",
        "\n",
        "El horario y el minutero de un reloj se juntan exactamente cada 65 minutos.  \n",
        "Calcular si el reloj se adelanta o se atrasa, y cuánto por hora.  \n",
        "\n",
        "PISTA: Suponer que las agujas del reloj empiezan en las 12 en punto.\n",
        "\n",
        "PISTA: No hace falta resolverlo con Python"
      ]
    },
    {
      "cell_type": "markdown",
      "metadata": {
        "id": "08XSjpBuVmJp",
        "colab_type": "text"
      },
      "source": [
        "**En 12 horas las agujas se superponen 11 veces. \n",
        "Si en 12 horas hay 720 minutos y los dividimos entre 11 : son 65,45 minutos, que correspode a 65 minutos y 27 segundos.\n",
        "Ese es el tiempo que debería tardar en superponerse, como tarda sólo 65 minutos podemos decir que se adelanta 27 segundos.**"
      ]
    },
    {
      "cell_type": "markdown",
      "metadata": {
        "id": "mG4tySWeVmJp",
        "colab_type": "text"
      },
      "source": [
        "## 10. Cuadrados perfectos\n",
        "\n",
        "<img src=\"Images/cuadrados-perfectos.jpg\" style=\"width: 500px;\"/>\n",
        "\n",
        "Averiguar el número entero positivo que, sumado tanto a 100 como a 164, propociona sendos cuadrados perfectos.\n",
        "\n",
        "PISTA: No hace falta resolverlo con Python"
      ]
    },
    {
      "cell_type": "code",
      "metadata": {
        "id": "QFhnoesVVmJp",
        "colab_type": "code",
        "outputId": "86995083-abad-4990-9d1d-4053dca8d6c9",
        "colab": {
          "base_uri": "https://localhost:8080/",
          "height": 34
        }
      },
      "source": [
        "import math\n",
        "\n",
        "# Obtenemos el primer número del que calcular su cuadrado (11)\n",
        "i = math.ceil(math.sqrt(100))\n",
        "\n",
        "while True:\n",
        "    # Obtenemos el cuadrado y se lo restamos a 100\n",
        "    numero = i**2 - 100\n",
        "    # Hacemos la raiz cuadrada del numero mas 164 y comprobamos si es exacta de serlo salimos del bucle\n",
        "    prueba = math.sqrt(164 + numero)\n",
        "    if int(prueba) - prueba == 0:\n",
        "        print(\"El numero es\", numero)\n",
        "        break\n",
        "    i+=1"
      ],
      "execution_count": 0,
      "outputs": [
        {
          "output_type": "stream",
          "text": [
            "El numero es 125\n"
          ],
          "name": "stdout"
        }
      ]
    },
    {
      "cell_type": "markdown",
      "metadata": {
        "id": "U95yXRDyVmJr",
        "colab_type": "text"
      },
      "source": [
        "## 11. Días de vacaciones\n",
        "\n",
        "<img src=\"Images/vacaciones.jpg\" style=\"width: 500px;\"/>\n",
        "\n",
        "Durante mis vacaciones llovió 9 días, y hubo 10 mañanas y 9 tardes soleadas. Cuando llovió por la mañana, la tarde fue soleada.\n",
        "¿Cuántos días duraron mis vacaciones?"
      ]
    },
    {
      "cell_type": "markdown",
      "metadata": {
        "id": "9B1bZOrKVmJr",
        "colab_type": "text"
      },
      "source": [
        "**Ningún día llovió mañana y tarde.**\n",
        "\n",
        "**Si \"x\" es es número de días que llovió por la mañana e \"y\" es el numero de dias que llovió por la tarde podemos afirmar la igualdad:**\n",
        "\n",
        "**10 + x = 9 + y**\n",
        "\n",
        "**Además según el enunciado x + y = 9**\n",
        "\n",
        "**Resolviendo x = 4**\n",
        "\n",
        "**Por tanto el total es 10 + x = 10 + 4 = 14 días**"
      ]
    },
    {
      "cell_type": "code",
      "metadata": {
        "id": "HJugN_j1VmJs",
        "colab_type": "code",
        "colab": {}
      },
      "source": [
        ""
      ],
      "execution_count": 0,
      "outputs": []
    }
  ]
}